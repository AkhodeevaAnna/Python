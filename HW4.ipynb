{
  "nbformat": 4,
  "nbformat_minor": 0,
  "metadata": {
    "colab": {
      "provenance": [],
      "authorship_tag": "ABX9TyN4kKqtBXTDhXh01/r6sm05",
      "include_colab_link": true
    },
    "kernelspec": {
      "name": "python3",
      "display_name": "Python 3"
    },
    "language_info": {
      "name": "python"
    }
  },
  "cells": [
    {
      "cell_type": "markdown",
      "metadata": {
        "id": "view-in-github",
        "colab_type": "text"
      },
      "source": [
        "<a href=\"https://colab.research.google.com/github/AkhodeevaAnna/Python/blob/HW4/HW4.ipynb\" target=\"_parent\"><img src=\"https://colab.research.google.com/assets/colab-badge.svg\" alt=\"Open In Colab\"/></a>"
      ]
    },
    {
      "cell_type": "code",
      "execution_count": null,
      "metadata": {
        "colab": {
          "base_uri": "https://localhost:8080/"
        },
        "id": "ye6hBiR2Q1F_",
        "outputId": "27820a5e-49ab-4d21-c933-94c057ad6dd9"
      },
      "outputs": [
        {
          "output_type": "stream",
          "name": "stdout",
          "text": [
            "Enter a real number: 65.0786\n",
            "Enter the required accuracy \"0.0001\":  0.001\n",
            "65.079\n"
          ]
        }
      ],
      "source": [
        "from decimal import Decimal\n",
        " \n",
        "num = Decimal(input ('Enter a real number: '))\n",
        "qua = Decimal(input ('Enter the required accuracy \"0.0001\":  '))\n",
        "number = num.quantize(Decimal(qua))\n",
        "print(number)"
      ]
    },
    {
      "cell_type": "code",
      "source": [
        "N = int(input())\n",
        "def simple_mn (N):\n",
        "  m = 2\n",
        "  list = []\n",
        "  while N > 1:\n",
        "    while N % m == 0:\n",
        "      N = N / m\n",
        "      list.append(m)\n",
        "    m+=1\n",
        "  return list\n",
        "print(simple_mn(N))"
      ],
      "metadata": {
        "colab": {
          "base_uri": "https://localhost:8080/"
        },
        "id": "gVZOuddORIyU",
        "outputId": "e4106845-d946-4cf8-9f66-740d85c75e9a"
      },
      "execution_count": null,
      "outputs": [
        {
          "output_type": "stream",
          "name": "stdout",
          "text": [
            "100000000\n",
            "[2, 2, 2, 2, 2, 2, 2, 2, 5, 5, 5, 5, 5, 5, 5, 5]\n"
          ]
        }
      ]
    },
    {
      "cell_type": "code",
      "source": [
        "from random import choices\n",
        "n = int(input())\n",
        "def creat_list(n):\n",
        "  numbers = choices(range(n*2), k = n)\n",
        "  return numbers\n",
        "def creat_list_of_uniq(numbers):\n",
        "  n = len (numbers)\n",
        "  uniq = []\n",
        "  count = 0\n",
        "  for i in range (n):\n",
        "    p = numbers[i]\n",
        "    for j in numbers:\n",
        "      if j==p:\n",
        "        count+=1\n",
        "    if count == 1:\n",
        "      uniq.append(p)\n",
        "    count = 0\n",
        "  return uniq\n",
        "numbers = creat_list(n)\n",
        "print(numbers)\n",
        "print(creat_list_of_uniq(numbers))"
      ],
      "metadata": {
        "colab": {
          "base_uri": "https://localhost:8080/"
        },
        "id": "Sf-vFulGRdKR",
        "outputId": "941e7d5a-dd20-4701-9c6c-6ed462fe7b18"
      },
      "execution_count": null,
      "outputs": [
        {
          "output_type": "stream",
          "name": "stdout",
          "text": [
            "10\n",
            "[18, 11, 9, 6, 15, 19, 0, 11, 6, 3]\n",
            "[18, 9, 15, 19, 0, 3]\n"
          ]
        }
      ]
    }
  ]
}